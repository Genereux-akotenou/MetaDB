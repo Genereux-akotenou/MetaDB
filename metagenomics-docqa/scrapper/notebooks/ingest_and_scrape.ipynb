{
  "cells": [
    {
      "cell_type": "markdown",
      "metadata": {},
      "source": [
        "# Ingest & Scrape Notebook\n",
        "\n",
        "Use this notebook to scrape raw data, chunk it, and upload to the API for QA generation.\n"
      ]
    },
    {
      "cell_type": "code",
      "execution_count": null,
      "metadata": {},
      "outputs": [],
      "source": [
        "API_BASE = 'http://localhost:8000'\n",
        "EMAIL = 'provider@example.com'\n",
        "PASSWORD = 'password'\n"
      ]
    },
    {
      "cell_type": "code",
      "execution_count": null,
      "metadata": {},
      "outputs": [],
      "source": [
        "import httpx, json, pathlib\n",
        "from pathlib import Path\n",
        "\n",
        "\n",
        "def login(email, password):\n",
        "    with httpx.Client(base_url=API_BASE) as c:\n",
        "        r = c.post('/auth/login', data={'username': email, 'password': password})\n",
        "        r.raise_for_status()\n",
        "        return r.json()['access_token']\n",
        "\n",
        "\n",
        "token = login(EMAIL, PASSWORD)\n",
        "token[:10]\n"
      ]
    },
    {
      "cell_type": "code",
      "execution_count": null,
      "metadata": {},
      "outputs": [],
      "source": [
        "# Prepare a small chunks.jsonl from dataset/chunks/chunks.jsonl\n",
        "src = Path('../../dataset/chunks/chunks.jsonl')\n",
        "dst = Path('sample_chunks.jsonl')\n",
        "data = []\n",
        "for i, line in enumerate(src.read_text().splitlines()):\n",
        "    if i >= 5: break\n",
        "    data.append(line)\n",
        "dst.write_text('\\n'.join(data))\n",
        "dst, len(data)\n"
      ]
    },
    {
      "cell_type": "code",
      "execution_count": null,
      "metadata": {},
      "outputs": [],
      "source": [
        "# Upload to API for QA generation\n",
        "with httpx.Client(base_url=API_BASE, headers={'Authorization': f'Bearer {token}'}) as c:\n",
        "    files = {'f': (dst.name, dst.read_bytes(), 'application/json')}\n",
        "    r = c.post('/upload/file', files=files)\n",
        "    r.status_code, r.text\n"
      ]
    }
  ],
  "metadata": {
    "language_info": {
      "name": "python"
    }
  },
  "nbformat": 4,
  "nbformat_minor": 2
}
